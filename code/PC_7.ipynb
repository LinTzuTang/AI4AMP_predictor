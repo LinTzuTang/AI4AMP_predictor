{
 "cells": [
  {
   "cell_type": "code",
   "execution_count": null,
   "metadata": {},
   "outputs": [],
   "source": [
    "from Other_To_nparray import generate_data\n",
    "from model_evalution import evalution_metrics\n",
    "from keras.models import load_model\n",
    "from Model.PC_7_model import t_m"
   ]
  },
  {
   "cell_type": "code",
   "execution_count": null,
   "metadata": {},
   "outputs": [],
   "source": [
    "# path\n",
    "data_output = 'Output/PC_7/'\n",
    "model_output = 'Output/PC_7/Model'"
   ]
  },
  {
   "cell_type": "code",
   "execution_count": null,
   "metadata": {},
   "outputs": [],
   "source": [
    "tr_data, tr_labels=generate_data(pos_fasta='Train_Postive_3528.fasta', neg_fasta='Train_Negative_3528_2.fasta', method='PC_7', \n",
    "              features_name='tr_data', labels_name='tr_labels', save=True, path=data_output)"
   ]
  },
  {
   "cell_type": "code",
   "execution_count": null,
   "metadata": {},
   "outputs": [],
   "source": [
    "train_data,test_data, train_label, test_label =traintest_split('tr_data.npy', 'tr_labels.npy',save=True, path=data_output)"
   ]
  },
  {
   "cell_type": "code",
   "execution_count": null,
   "metadata": {},
   "outputs": [],
   "source": [
    "t_m = t_m(train_data, train_label, model_name='PC_7', path=model_output)"
   ]
  },
  {
   "cell_type": "code",
   "execution_count": null,
   "metadata": {},
   "outputs": [],
   "source": [
    "model = load_model(model_output+'/PC_7_best_weights.h5')\n",
    "labels_score = model.predict(test_data)\n",
    "evalution_metrics(test_label, labels_score,save=True, txt_name='test', path = model_output)"
   ]
  },
  {
   "cell_type": "code",
   "execution_count": null,
   "metadata": {},
   "outputs": [],
   "source": [
    "ex_data, ex_labels =generate_data(pos_fasta='External_Test_Pos_565.fasta',neg_fasta='External_Test_Neg_565_length.fasta', method='PC_7',\n",
    "                                  features_name='ex_data', labels_name='ex_labels', save=True, path= data_output)\n",
    "ex_labels_score = model.predict(ex_data)\n",
    "evalution_metrics(ex_labels, ex_labels_score, save=True, txt_name='ex_test', path = model_output)"
   ]
  },
  {
   "cell_type": "code",
   "execution_count": null,
   "metadata": {},
   "outputs": [],
   "source": [
    "from keras.models import load_model\n",
    "model = load_model(model_output+'/PC_7_best_weights.h5')\n",
    "ex_data, ex_labels =generate_data(pos_fasta='External_Test_Pos_312.fasta',neg_fasta='External_Test_Neg_312.fasta',method='PC_7')\n",
    "ex_labels_score = model.predict(ex_data)\n",
    "evalution_metrics(ex_labels, ex_labels_score, save=True, txt_name='ex_test', path = model_output)"
   ]
  },
  {
   "cell_type": "code",
   "execution_count": null,
   "metadata": {},
   "outputs": [],
   "source": [
    "import pandas as pd "
   ]
  },
  {
   "cell_type": "code",
   "execution_count": null,
   "metadata": {},
   "outputs": [],
   "source": [
    "df = pd.read_csv('Output/PC_7/Model/PC_7_csvLogger.csv')"
   ]
  },
  {
   "cell_type": "code",
   "execution_count": null,
   "metadata": {},
   "outputs": [],
   "source": [
    "from model_evalution import show_histroy"
   ]
  },
  {
   "cell_type": "code",
   "execution_count": null,
   "metadata": {},
   "outputs": [],
   "source": [
    "from matplotlib import pyplot as plt"
   ]
  },
  {
   "cell_type": "code",
   "execution_count": null,
   "metadata": {},
   "outputs": [],
   "source": [
    "show_histroy(df)\n",
    "plt.savefig('Output/PC_7/Model/output.png')"
   ]
  }
 ],
 "metadata": {
  "kernelspec": {
   "display_name": "Python 3",
   "language": "python",
   "name": "python3"
  },
  "language_info": {
   "codemirror_mode": {
    "name": "ipython",
    "version": 3
   },
   "file_extension": ".py",
   "mimetype": "text/x-python",
   "name": "python",
   "nbconvert_exporter": "python",
   "pygments_lexer": "ipython3",
   "version": "3.6.9"
  }
 },
 "nbformat": 4,
 "nbformat_minor": 2
}
