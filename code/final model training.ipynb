{
 "cells": [
  {
   "cell_type": "code",
   "execution_count": null,
   "metadata": {
    "scrolled": true
   },
   "outputs": [],
   "source": [
    "from Other_To_nparray import generate_data, traintest_split\n",
    "from keras.models import load_model\n",
    "from model_evalution import evalution_metrics\n",
    "from Model.PC_6_model import t_m\n",
    "import os"
   ]
  },
  {
   "cell_type": "code",
   "execution_count": null,
   "metadata": {},
   "outputs": [],
   "source": [
    "# path\n",
    "data_output = 'Output/PC_6_all/'\n",
    "model_output = 'Output/PC_6_all/Model/'\n",
    "model_name='PC_6'\n",
    "if not os.path.isdir(data_output):\n",
    "    os.mkdir(data_output)"
   ]
  },
  {
   "cell_type": "code",
   "execution_count": null,
   "metadata": {},
   "outputs": [],
   "source": [
    "train_data, train_labels = generate_data(pos_fasta='4DB_independent_6623.fasta', neg_fasta='Train_Negative_6623.fasta', method='PC_6')"
   ]
  },
  {
   "cell_type": "code",
   "execution_count": null,
   "metadata": {},
   "outputs": [],
   "source": [
    "model = load_model('Output/PC_6_ver2/Model/PC_6_best_weights.h5')"
   ]
  },
  {
   "cell_type": "code",
   "execution_count": null,
   "metadata": {},
   "outputs": [],
   "source": [
    "import keras\n",
    "from keras.models import Model\n",
    "from keras.layers import Dense, Dropout\n",
    "from keras.layers import Embedding\n",
    "from keras.layers import Conv1D\n",
    "from keras.layers import LSTM,Add,Input\n",
    "from keras.layers import LeakyReLU\n",
    "from keras import models\n",
    "from keras import optimizers\n",
    "import os\n",
    "os.environ['CUDA_VISIBLE_DEVICES']='3'\n",
    "\n",
    "model.compile(optimizer=optimizers.Adam(lr=1e-4, clipnorm=1),\n",
    "                  loss='binary_crossentropy',\n",
    "                  metrics=['accuracy'])\n",
    "reduce_lr = keras.callbacks.ReduceLROnPlateau(monitor='val_loss', factor=0.5,\n",
    "                                              patience=50,verbose=1)\n",
    "best_weights_filepath = model_output+'/%s_best_weights.h5'%model_name\n",
    "saveBestModel = keras.callbacks.ModelCheckpoint(best_weights_filepath, \n",
    "                                                    monitor='val_loss', \n",
    "                                                    verbose=1, \n",
    "                                                    save_best_only=True, \n",
    "                                                    mode='auto')\n",
    "final_filepath = model_output+'/%s_final.h5'%model_name\n",
    "saveFinalModel = keras.callbacks.ModelCheckpoint(final_filepath, \n",
    "                                                    save_best_only=False)\n",
    "e_s = keras.callbacks.EarlyStopping(monitor='val_loss',\n",
    "                                          min_delta=0,\n",
    "                                          patience=300,\n",
    "                                          verbose=0, mode='max')\n",
    "CSVLogger = keras.callbacks.CSVLogger(model_output+\"/%s_csvLogger.csv\"%model_name,separator=',', append=False)\n",
    "\n",
    "t_m=model.fit(train_data,train_labels,shuffle=True,validation_split=0.1, \n",
    "                epochs=250, batch_size=int(0.5*len(train_data)),callbacks=[saveBestModel,CSVLogger,e_s,saveFinalModel,reduce_lr])"
   ]
  }
 ],
 "metadata": {
  "kernelspec": {
   "display_name": "Python 3",
   "language": "python",
   "name": "python3"
  },
  "language_info": {
   "codemirror_mode": {
    "name": "ipython",
    "version": 3
   },
   "file_extension": ".py",
   "mimetype": "text/x-python",
   "name": "python",
   "nbconvert_exporter": "python",
   "pygments_lexer": "ipython3",
   "version": "3.6.9"
  }
 },
 "nbformat": 4,
 "nbformat_minor": 2
}
