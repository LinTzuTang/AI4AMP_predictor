{
 "cells": [
  {
   "cell_type": "code",
   "execution_count": null,
   "metadata": {},
   "outputs": [],
   "source": [
    "from To_nparray import generate_data, traintest_split\n",
    "from keras.models import load_model\n",
    "from model_evalution import evalution_metrics"
   ]
  },
  {
   "cell_type": "code",
   "execution_count": null,
   "metadata": {},
   "outputs": [],
   "source": [
    "# path\n",
    "data_output = 'Output/PC_6_712_354_712/'\n",
    "model_output = 'Output/PC_6_712_354_712/Model'"
   ]
  },
  {
   "cell_type": "code",
   "execution_count": null,
   "metadata": {},
   "outputs": [],
   "source": [
    "train_data,train_label = generate_data(pos_fasta='AMP.tr.fa', neg_fasta='DECOY.tr.fa')\n",
    "test_data, test_label = generate_data(pos_fasta='AMP.te.fa', neg_fasta='DECOY.te.fa')\n",
    "val_data, val_label = generate_data(pos_fasta='AMP.eval.fa', neg_fasta='DECOY.eval.fa')"
   ]
  },
  {
   "cell_type": "code",
   "execution_count": null,
   "metadata": {},
   "outputs": [],
   "source": [
    "import keras\n",
    "from keras.models import Model\n",
    "from keras.layers import Dense, Dropout\n",
    "from keras.layers import Embedding\n",
    "from keras.layers import Conv1D\n",
    "from keras.layers import LSTM,Add,Input\n",
    "from keras.layers import LeakyReLU\n",
    "from keras import models\n",
    "from keras import optimizers\n",
    "import os\n",
    "os.environ['CUDA_VISIBLE_DEVICES']='1'\n",
    "model_name = 'PC_6'\n",
    "input_ = Input(shape=(200,6))\n",
    "cnn = Conv1D(64 ,16,activation = 'relu', padding=\"same\")(input_)\n",
    "#post_cnn = LeakyReLU(alpha=0.1)(cnn)\n",
    "lstm = LSTM(units=100,return_sequences=False)(cnn)\n",
    "result = Dense(1, activation = \"sigmoid\")(lstm)\n",
    "model = Model(inputs=input_,outputs=result)\n",
    "\n",
    "model.compile(optimizer=optimizers.Adam(lr=3*1e-4),\n",
    "                loss='binary_crossentropy',\n",
    "                metrics=['accuracy'])\n",
    "\n",
    "e_s = keras.callbacks.EarlyStopping(monitor='val_loss',\n",
    "                                        min_delta=0,\n",
    "                                        patience=80,\n",
    "                                        verbose=0, mode='min')\n",
    "best_weights_filepath = model_output+'/%s_best_weights.h5'%model_name\n",
    "saveBestModel = keras.callbacks.ModelCheckpoint(best_weights_filepath, \n",
    "                                                    monitor='val_loss', \n",
    "                                                    verbose=1, \n",
    "                                                    save_best_only=True, \n",
    "                                                    mode='auto')\n",
    "CSVLogger = keras.callbacks.CSVLogger(model_output+\"/%s_csvLogger.csv\"%model_name,separator=',', append=False)\n",
    "\n",
    "t_m=model.fit(train_data,train_label,shuffle=True,validation_data=(val_data, val_label), \n",
    "                epochs=500, batch_size=int(1*len(train_data)),callbacks=[saveBestModel,CSVLogger])\n"
   ]
  },
  {
   "cell_type": "code",
   "execution_count": null,
   "metadata": {},
   "outputs": [],
   "source": [
    "model = load_model('Output/PC_6_712_354_712/Model/PC_6_best_weights.h5')\n",
    "labels_score = model.predict(test_data)\n",
    "evalution_metrics(test_label, labels_score,save=True, txt_name='test', path = model_output)"
   ]
  },
  {
   "cell_type": "code",
   "execution_count": null,
   "metadata": {},
   "outputs": [],
   "source": [
    "from keras.models import load_model \n",
    "ex_data, ex_labels =generate_data(pos_fasta='External_Test_Pos_565.fasta',neg_fasta='External_Test_Neg_565.fasta') \n",
    "ex_labels_score = model.predict(ex_data) \n",
    "evalution_metrics(ex_labels, ex_labels_score, save=True, txt_name='ex_test', path = model_output)"
   ]
  },
  {
   "cell_type": "code",
   "execution_count": null,
   "metadata": {},
   "outputs": [],
   "source": []
  }
 ],
 "metadata": {
  "kernelspec": {
   "display_name": "Python 3",
   "language": "python",
   "name": "python3"
  },
  "language_info": {
   "codemirror_mode": {
    "name": "ipython",
    "version": 3
   },
   "file_extension": ".py",
   "mimetype": "text/x-python",
   "name": "python",
   "nbconvert_exporter": "python",
   "pygments_lexer": "ipython3",
   "version": "3.6.9"
  }
 },
 "nbformat": 4,
 "nbformat_minor": 2
}
