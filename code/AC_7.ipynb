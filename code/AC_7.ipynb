{
 "cells": [
  {
   "cell_type": "code",
   "execution_count": null,
   "metadata": {},
   "outputs": [],
   "source": [
    "from ac_7 import generate_data, traintest_split\n",
    "from model_evalution import evalution_metrics\n",
    "from Model.AC_7_model import t_m\n",
    "from keras.models import load_model\n",
    "# path\n",
    "data_output = 'Output/AC_7/'\n",
    "model_output = 'Output/AC_7/Model'\n",
    "#\n",
    "tr_data, tr_labels=generate_data(pos_fasta='Train_Postive_3528.fasta', neg_fasta='Train_Negative_3528.fasta', \n",
    "             features_name='tr_data', labels_name='tr_labels', save=True, path=data_output)\n",
    "train_data,test_data, train_label, test_label =traintest_split('tr_data.npy', 'tr_labels.npy',save=True, path=data_output)"
   ]
  },
  {
   "cell_type": "code",
   "execution_count": null,
   "metadata": {},
   "outputs": [],
   "source": [
    "t_m = t_m(train_data, train_label, model_name='AC_7', path=model_output)"
   ]
  },
  {
   "cell_type": "code",
   "execution_count": null,
   "metadata": {},
   "outputs": [],
   "source": [
    "model = load_model(model_output+'/AC_7_best_weights.h5')\n",
    "labels_score = model.predict(test_data)\n",
    "evalution_metrics(test_label, labels_score,save=True, txt_name='test', path = model_output)"
   ]
  },
  {
   "cell_type": "code",
   "execution_count": null,
   "metadata": {},
   "outputs": [],
   "source": [
    "model = load_model(model_output+'/AC_7_best_weights.h5')\n",
    "ex_data, ex_labels =generate_data(pos_fasta='External_Test_Pos_565.fasta',neg_fasta='External_Test_Neg_565.fasta',\n",
    "                                  features_name='ex_data', labels_name='ex_labels', save=True, path= data_output)\n",
    "ex_labels_score = model.predict(ex_data)\n",
    "evalution_metrics(ex_labels, ex_labels_score, save=True, txt_name='ex_test', path = model_output)"
   ]
  },
  {
   "cell_type": "code",
   "execution_count": null,
   "metadata": {},
   "outputs": [],
   "source": []
  }
 ],
 "metadata": {
  "kernelspec": {
   "display_name": "Python 3",
   "language": "python",
   "name": "python3"
  },
  "language_info": {
   "codemirror_mode": {
    "name": "ipython",
    "version": 3
   },
   "file_extension": ".py",
   "mimetype": "text/x-python",
   "name": "python",
   "nbconvert_exporter": "python",
   "pygments_lexer": "ipython3",
   "version": "3.6.9"
  }
 },
 "nbformat": 4,
 "nbformat_minor": 2
}
