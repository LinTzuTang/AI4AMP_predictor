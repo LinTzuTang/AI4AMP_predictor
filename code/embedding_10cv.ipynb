{
 "cells": [
  {
   "cell_type": "code",
   "execution_count": null,
   "metadata": {},
   "outputs": [],
   "source": [
    "from Other_To_nparray import generate_data\n",
    "from keras.wrappers.scikit_learn import KerasClassifier\n",
    "from sklearn.model_selection import cross_val_score\n",
    "from model_evalution import metric_array\n",
    "from Model.PC_6_10cv_model import c_v\n",
    "import pandas as pd\n",
    "import numpy as np\n",
    "import os\n",
    "\n",
    "\n",
    "output_path = 'Output/Embedding/10cv'\n",
    "train_data, train_labels = generate_data('Train_Postive_3175.fasta', 'Train_Negative_3175.fasta',method='integer')"
   ]
  },
  {
   "cell_type": "code",
   "execution_count": null,
   "metadata": {},
   "outputs": [],
   "source": [
    "import keras\n",
    "from keras.models import Model\n",
    "from keras.layers import Dense, Dropout\n",
    "from keras.layers import Embedding\n",
    "from keras.layers import Conv1D\n",
    "from keras.layers import CuDNNLSTM,Add,Input\n",
    "from keras.layers import LeakyReLU\n",
    "from keras import models\n",
    "from keras import optimizers\n",
    "import os\n",
    "import numpy as np\n",
    "\n",
    "os.environ['CUDA_VISIBLE_DEVICES']='2'\n",
    "def create_network():\n",
    "    model = models.Sequential()\n",
    "    # Input - Layer\n",
    "    model.add(Embedding(21, 64, input_length=200))\n",
    "    model.add(Conv1D(64,16 ,activation = \"relu\", padding=\"same\",input_shape=(200, 64)))\n",
    "    # Hidden - Layers\n",
    "    lstm = CuDNNLSTM(units=100,return_sequences=False)\n",
    "    model.add(lstm)\n",
    "    # Output- Layer\n",
    "    model.add(Dense(1, activation = \"sigmoid\"))\n",
    "\n",
    "    model.compile(optimizer=optimizers.Adam(lr=7*1e-4),\n",
    "                  loss='binary_crossentropy',\n",
    "                  metrics=['accuracy'])\n",
    "    return model\n"
   ]
  },
  {
   "cell_type": "code",
   "execution_count": null,
   "metadata": {},
   "outputs": [],
   "source": [
    "e_s = keras.callbacks.EarlyStopping(monitor='val_loss',\n",
    "                                          min_delta=0,\n",
    "                                          patience=80,\n",
    "                                          verbose=0, mode='min')\n",
    "neural_network = KerasClassifier(build_fn=create_network, \n",
    "                                 epochs=300, batch_size=int(0.5*len(train_data)),\n",
    "                                 verbose=0)"
   ]
  },
  {
   "cell_type": "code",
   "execution_count": null,
   "metadata": {},
   "outputs": [],
   "source": [
    "r=cross_val_score(neural_network, train_data ,train_labels, cv=10,scoring='accuracy',fit_params = {'callbacks': [e_s]})"
   ]
  },
  {
   "cell_type": "code",
   "execution_count": null,
   "metadata": {},
   "outputs": [],
   "source": []
  }
 ],
 "metadata": {
  "kernelspec": {
   "display_name": "Python 3",
   "language": "python",
   "name": "python3"
  },
  "language_info": {
   "codemirror_mode": {
    "name": "ipython",
    "version": 3
   },
   "file_extension": ".py",
   "mimetype": "text/x-python",
   "name": "python",
   "nbconvert_exporter": "python",
   "pygments_lexer": "ipython3",
   "version": "3.6.9"
  }
 },
 "nbformat": 4,
 "nbformat_minor": 2
}
