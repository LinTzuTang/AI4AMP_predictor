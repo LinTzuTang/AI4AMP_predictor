{
 "cells": [
  {
   "cell_type": "code",
   "execution_count": null,
   "metadata": {},
   "outputs": [],
   "source": [
    "from To_nparray import generate_data, traintest_split\n",
    "from keras.models import load_model\n",
    "from model_evalution import evalution_metrics\n",
    "from Model.PC_6_model import t_m"
   ]
  },
  {
   "cell_type": "code",
   "execution_count": null,
   "metadata": {},
   "outputs": [],
   "source": [
    "# path\n",
    "data_output = 'Output/PC_6_2021/'\n",
    "model_output = 'Output/PC_6_2021/Model'"
   ]
  },
  {
   "cell_type": "code",
   "execution_count": null,
   "metadata": {},
   "outputs": [],
   "source": [
    "generate_data(pos_fasta='AMPS_02182020.fasta', neg_fasta='DECOYS_02182020.fasta', \n",
    "                                  features_name='tr_data', labels_name='tr_labels',save=True,PC_6_path = data_output)\n",
    "train_data,test_data, train_label, test_label =traintest_split('tr_data.npy', 'tr_labels.npy', path=data_output)"
   ]
  },
  {
   "cell_type": "code",
   "execution_count": null,
   "metadata": {},
   "outputs": [],
   "source": [
    "t_m = t_m(train_data, train_label, model_name='PC_6', path=model_output)"
   ]
  },
  {
   "cell_type": "code",
   "execution_count": null,
   "metadata": {},
   "outputs": [],
   "source": [
    "from keras.models import load_model\n",
    "model = load_model('Output/PC_6_2021/Model/PC_6_best_weights.h5')\n",
    "ex_data, ex_labels =generate_data(pos_fasta='External_Test_Pos_565.fasta',neg_fasta='External_Test_Neg_565.fasta')\n",
    "ex_labels_score = model.predict(ex_data)\n",
    "evalution_metrics(ex_labels, ex_labels_score, save=True, txt_name='ex_test', path = model_output)"
   ]
  },
  {
   "cell_type": "code",
   "execution_count": null,
   "metadata": {},
   "outputs": [],
   "source": []
  }
 ],
 "metadata": {
  "kernelspec": {
   "display_name": "Python 3",
   "language": "python",
   "name": "python3"
  },
  "language_info": {
   "codemirror_mode": {
    "name": "ipython",
    "version": 3
   },
   "file_extension": ".py",
   "mimetype": "text/x-python",
   "name": "python",
   "nbconvert_exporter": "python",
   "pygments_lexer": "ipython3",
   "version": "3.6.9"
  }
 },
 "nbformat": 4,
 "nbformat_minor": 2
}
